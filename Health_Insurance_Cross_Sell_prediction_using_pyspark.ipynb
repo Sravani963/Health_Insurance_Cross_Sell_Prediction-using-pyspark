{
  "nbformat": 4,
  "nbformat_minor": 0,
  "metadata": {
    "colab": {
      "name": "Health Insurance Cross Sell prediction using pyspark",
      "provenance": [],
      "collapsed_sections": []
    },
    "kernelspec": {
      "name": "python3",
      "display_name": "Python 3"
    },
    "language_info": {
      "name": "python"
    }
  },
  "cells": [
    {
      "cell_type": "code",
      "metadata": {
        "colab": {
          "base_uri": "https://localhost:8080/"
        },
        "id": "buw3hiMDub_6",
        "outputId": "cfe65e62-e280-4096-87fc-acdffb265d1e"
      },
      "source": [
        "from google.colab import drive\n",
        "drive.mount('/content/drive')"
      ],
      "execution_count": null,
      "outputs": [
        {
          "output_type": "stream",
          "text": [
            "Drive already mounted at /content/drive; to attempt to forcibly remount, call drive.mount(\"/content/drive\", force_remount=True).\n"
          ],
          "name": "stdout"
        }
      ]
    },
    {
      "cell_type": "markdown",
      "metadata": {
        "id": "9p_JWjdnv4AJ"
      },
      "source": [
        "# **Loading Dataset**"
      ]
    },
    {
      "cell_type": "code",
      "metadata": {
        "colab": {
          "base_uri": "https://localhost:8080/"
        },
        "id": "c3qqDF2dv7ef",
        "outputId": "fae26ff4-66b6-4eed-9f18-4e0b8be34b6c"
      },
      "source": [
        "from pyspark.sql import SparkSession\n",
        "from pyspark.sql.functions import *\n",
        "spark = SparkSession.builder.appName(\"LinearRegression\").getOrCreate()\n",
        "df = spark.read.csv('/content/drive/My Drive/healthinsurance.csv', header=True, inferSchema=True)\n",
        "df.show(5)"
      ],
      "execution_count": null,
      "outputs": [
        {
          "output_type": "stream",
          "text": [
            "+---+------+---+---------------+-----------+------------------+-----------+--------------+--------------+--------------------+-------+--------+\n",
            "| id|Gender|Age|Driving_License|Region_Code|Previously_Insured|Vehicle_Age|Vehicle_Damage|Annual_Premium|Policy_Sales_Channel|Vintage|Response|\n",
            "+---+------+---+---------------+-----------+------------------+-----------+--------------+--------------+--------------------+-------+--------+\n",
            "|  1|  Male| 44|              1|       28.0|                 0|  > 2 Years|           Yes|       40454.0|                26.0|    217|       1|\n",
            "|  2|  Male| 76|              1|        3.0|                 0|   1-2 Year|            No|       33536.0|                26.0|    183|       0|\n",
            "|  3|  Male| 47|              1|       28.0|                 0|  > 2 Years|           Yes|       38294.0|                26.0|     27|       1|\n",
            "|  4|  Male| 21|              1|       11.0|                 1|   < 1 Year|            No|       28619.0|               152.0|    203|       0|\n",
            "|  5|Female| 29|              1|       41.0|                 1|   < 1 Year|            No|       27496.0|               152.0|     39|       0|\n",
            "+---+------+---+---------------+-----------+------------------+-----------+--------------+--------------+--------------------+-------+--------+\n",
            "only showing top 5 rows\n",
            "\n"
          ],
          "name": "stdout"
        }
      ]
    },
    {
      "cell_type": "code",
      "metadata": {
        "colab": {
          "base_uri": "https://localhost:8080/"
        },
        "id": "AQM6S5Oxv_32",
        "outputId": "55c757f9-30bb-4a7b-8999-2bde612877d1"
      },
      "source": [
        "df.printSchema()"
      ],
      "execution_count": null,
      "outputs": [
        {
          "output_type": "stream",
          "text": [
            "root\n",
            " |-- id: integer (nullable = true)\n",
            " |-- Gender: string (nullable = true)\n",
            " |-- Age: integer (nullable = true)\n",
            " |-- Driving_License: integer (nullable = true)\n",
            " |-- Region_Code: double (nullable = true)\n",
            " |-- Previously_Insured: integer (nullable = true)\n",
            " |-- Vehicle_Age: string (nullable = true)\n",
            " |-- Vehicle_Damage: string (nullable = true)\n",
            " |-- Annual_Premium: double (nullable = true)\n",
            " |-- Policy_Sales_Channel: double (nullable = true)\n",
            " |-- Vintage: integer (nullable = true)\n",
            " |-- Response: integer (nullable = true)\n",
            "\n"
          ],
          "name": "stdout"
        }
      ]
    },
    {
      "cell_type": "code",
      "metadata": {
        "colab": {
          "base_uri": "https://localhost:8080/"
        },
        "id": "pPTSBAv9wEbb",
        "outputId": "7b918a75-e372-4d01-fcf7-662d50bfaef8"
      },
      "source": [
        "# get the dimensions of the data\n",
        "(df.count() , len(df.columns))"
      ],
      "execution_count": null,
      "outputs": [
        {
          "output_type": "execute_result",
          "data": {
            "text/plain": [
              "(381109, 12)"
            ]
          },
          "metadata": {
            "tags": []
          },
          "execution_count": 44
        }
      ]
    },
    {
      "cell_type": "code",
      "metadata": {
        "colab": {
          "base_uri": "https://localhost:8080/"
        },
        "id": "Ibufk6EdwHfn",
        "outputId": "72e19541-36d6-4998-b039-fa2b773dc46d"
      },
      "source": [
        "df.groupby('Response').count().show()"
      ],
      "execution_count": null,
      "outputs": [
        {
          "output_type": "stream",
          "text": [
            "+--------+------+\n",
            "|Response| count|\n",
            "+--------+------+\n",
            "|       1| 46710|\n",
            "|       0|334399|\n",
            "+--------+------+\n",
            "\n"
          ],
          "name": "stdout"
        }
      ]
    },
    {
      "cell_type": "code",
      "metadata": {
        "colab": {
          "base_uri": "https://localhost:8080/"
        },
        "id": "w6YLR0-ywLpW",
        "outputId": "297f240e-092c-4971-e55a-47e465f5e856"
      },
      "source": [
        "df.describe().show()"
      ],
      "execution_count": null,
      "outputs": [
        {
          "output_type": "stream",
          "text": [
            "+-------+------------------+------+------------------+--------------------+------------------+-------------------+-----------+--------------+------------------+--------------------+------------------+-------------------+\n",
            "|summary|                id|Gender|               Age|     Driving_License|       Region_Code| Previously_Insured|Vehicle_Age|Vehicle_Damage|    Annual_Premium|Policy_Sales_Channel|           Vintage|           Response|\n",
            "+-------+------------------+------+------------------+--------------------+------------------+-------------------+-----------+--------------+------------------+--------------------+------------------+-------------------+\n",
            "|  count|            381109|381109|            381109|              381109|            381109|             381109|     381109|        381109|            381109|              381109|            381109|             381109|\n",
            "|   mean|          190555.0|  null|38.822583565331705|  0.9978693759528114|26.388807401557035| 0.4582101183650871|       null|          null|30564.389581458323|  112.03429465061177|154.34739667654136|0.12256336113815208|\n",
            "| stddev|110016.83620776715|  null| 15.51161101809548|0.046109544207799495| 13.22988802578841|0.49825119888722824|       null|          null|17213.155056979947|   54.20399477485719| 83.67130362658658|0.32793576478642744|\n",
            "|    min|                 1|Female|                20|                   0|               0.0|                  0|   1-2 Year|            No|            2630.0|                 1.0|                10|                  0|\n",
            "|    max|            381109|  Male|                85|                   1|              52.0|                  1|  > 2 Years|           Yes|          540165.0|               163.0|               299|                  1|\n",
            "+-------+------------------+------+------------------+--------------------+------------------+-------------------+-----------+--------------+------------------+--------------------+------------------+-------------------+\n",
            "\n"
          ],
          "name": "stdout"
        }
      ]
    },
    {
      "cell_type": "code",
      "metadata": {
        "colab": {
          "base_uri": "https://localhost:8080/"
        },
        "id": "InH8CakkwQjd",
        "outputId": "ea1faef2-eb44-4c3f-a8be-28a88557a8cc"
      },
      "source": [
        "from pyspark.sql import functions as F\n",
        "df.select([F.count(F.when(F.isnull(c), c)).alias(c) for c in df.columns]).show()"
      ],
      "execution_count": null,
      "outputs": [
        {
          "output_type": "stream",
          "text": [
            "+---+------+---+---------------+-----------+------------------+-----------+--------------+--------------+--------------------+-------+--------+\n",
            "| id|Gender|Age|Driving_License|Region_Code|Previously_Insured|Vehicle_Age|Vehicle_Damage|Annual_Premium|Policy_Sales_Channel|Vintage|Response|\n",
            "+---+------+---+---------------+-----------+------------------+-----------+--------------+--------------+--------------------+-------+--------+\n",
            "|  0|     0|  0|              0|          0|                 0|          0|             0|             0|                   0|      0|       0|\n",
            "+---+------+---+---------------+-----------+------------------+-----------+--------------+--------------+--------------------+-------+--------+\n",
            "\n"
          ],
          "name": "stdout"
        }
      ]
    },
    {
      "cell_type": "code",
      "metadata": {
        "colab": {
          "base_uri": "https://localhost:8080/"
        },
        "id": "CQfbkwKVwTPo",
        "outputId": "eaea5d59-937c-45a6-edb6-7054346dbea0"
      },
      "source": [
        "df.groupBy(\"Gender\").agg(F.sum(\"Response\")).show()"
      ],
      "execution_count": null,
      "outputs": [
        {
          "output_type": "stream",
          "text": [
            "+------+-------------+\n",
            "|Gender|sum(Response)|\n",
            "+------+-------------+\n",
            "|Female|        18185|\n",
            "|  Male|        28525|\n",
            "+------+-------------+\n",
            "\n"
          ],
          "name": "stdout"
        }
      ]
    },
    {
      "cell_type": "code",
      "metadata": {
        "colab": {
          "base_uri": "https://localhost:8080/"
        },
        "id": "v39NLeinwXa5",
        "outputId": "195171d1-bc26-4bc0-e686-c96416ebbc17"
      },
      "source": [
        "#Selecting few columns by their names\n",
        "df.select(['Gender', 'Age', 'Policy_Sales_Channel']).show(5, False) # Method 1\n",
        "\n",
        "df.select(df[\"Age\"], df[\"Gender\"], df[\"Policy_Sales_Channel\"]).show(10, False) # Method 2\n",
        "\n",
        "from pyspark.sql.functions import col # Method 3 - By import SQL function col\n",
        "df.select(col(\"Age\"), col(\"Gender\"), col(\"Policy_Sales_Channel\")).show(5, False)"
      ],
      "execution_count": null,
      "outputs": [
        {
          "output_type": "stream",
          "text": [
            "+------+---+--------------------+\n",
            "|Gender|Age|Policy_Sales_Channel|\n",
            "+------+---+--------------------+\n",
            "|Male  |44 |26.0                |\n",
            "|Male  |76 |26.0                |\n",
            "|Male  |47 |26.0                |\n",
            "|Male  |21 |152.0               |\n",
            "|Female|29 |152.0               |\n",
            "+------+---+--------------------+\n",
            "only showing top 5 rows\n",
            "\n",
            "+---+------+--------------------+\n",
            "|Age|Gender|Policy_Sales_Channel|\n",
            "+---+------+--------------------+\n",
            "|44 |Male  |26.0                |\n",
            "|76 |Male  |26.0                |\n",
            "|47 |Male  |26.0                |\n",
            "|21 |Male  |152.0               |\n",
            "|29 |Female|152.0               |\n",
            "|24 |Female|160.0               |\n",
            "|23 |Male  |152.0               |\n",
            "|56 |Female|26.0                |\n",
            "|24 |Female|152.0               |\n",
            "|32 |Female|152.0               |\n",
            "+---+------+--------------------+\n",
            "only showing top 10 rows\n",
            "\n",
            "+---+------+--------------------+\n",
            "|Age|Gender|Policy_Sales_Channel|\n",
            "+---+------+--------------------+\n",
            "|44 |Male  |26.0                |\n",
            "|76 |Male  |26.0                |\n",
            "|47 |Male  |26.0                |\n",
            "|21 |Male  |152.0               |\n",
            "|29 |Female|152.0               |\n",
            "+---+------+--------------------+\n",
            "only showing top 5 rows\n",
            "\n"
          ],
          "name": "stdout"
        }
      ]
    },
    {
      "cell_type": "code",
      "metadata": {
        "colab": {
          "base_uri": "https://localhost:8080/"
        },
        "id": "K9sIuKL3wcYi",
        "outputId": "2ba82e88-510e-4d65-ec33-a894c3089833"
      },
      "source": [
        "#Creating a subset of dataframe using Filter\n",
        "df.filter(df[\"Age\"] > 30 ).filter(df[\"Age\"] < 45).show(5) # Selecting subset using chain of Filter of option\n",
        "df.filter((df[\"Age\"] > 30) & (df[\"Age\"] < 45 )).show(5, False) # Selcting subset by using AND between the criteria"
      ],
      "execution_count": null,
      "outputs": [
        {
          "output_type": "stream",
          "text": [
            "+---+------+---+---------------+-----------+------------------+-----------+--------------+--------------+--------------------+-------+--------+\n",
            "| id|Gender|Age|Driving_License|Region_Code|Previously_Insured|Vehicle_Age|Vehicle_Damage|Annual_Premium|Policy_Sales_Channel|Vintage|Response|\n",
            "+---+------+---+---------------+-----------+------------------+-----------+--------------+--------------+--------------------+-------+--------+\n",
            "|  1|  Male| 44|              1|       28.0|                 0|  > 2 Years|           Yes|       40454.0|                26.0|    217|       1|\n",
            "| 10|Female| 32|              1|        6.0|                 1|   < 1 Year|            No|       28771.0|               152.0|     80|       0|\n",
            "| 13|Female| 41|              1|       15.0|                 1|   1-2 Year|            No|       31409.0|                14.0|    221|       0|\n",
            "| 16|  Male| 37|              1|        6.0|                 0|   1-2 Year|           Yes|        2630.0|               156.0|    147|       1|\n",
            "| 19|  Male| 42|              1|       28.0|                 0|   1-2 Year|           Yes|       33667.0|               124.0|    158|       0|\n",
            "+---+------+---+---------------+-----------+------------------+-----------+--------------+--------------+--------------------+-------+--------+\n",
            "only showing top 5 rows\n",
            "\n",
            "+---+------+---+---------------+-----------+------------------+-----------+--------------+--------------+--------------------+-------+--------+\n",
            "|id |Gender|Age|Driving_License|Region_Code|Previously_Insured|Vehicle_Age|Vehicle_Damage|Annual_Premium|Policy_Sales_Channel|Vintage|Response|\n",
            "+---+------+---+---------------+-----------+------------------+-----------+--------------+--------------+--------------------+-------+--------+\n",
            "|1  |Male  |44 |1              |28.0       |0                 |> 2 Years  |Yes           |40454.0       |26.0                |217    |1       |\n",
            "|10 |Female|32 |1              |6.0        |1                 |< 1 Year   |No            |28771.0       |152.0               |80     |0       |\n",
            "|13 |Female|41 |1              |15.0       |1                 |1-2 Year   |No            |31409.0       |14.0                |221    |0       |\n",
            "|16 |Male  |37 |1              |6.0        |0                 |1-2 Year   |Yes           |2630.0        |156.0               |147    |1       |\n",
            "|19 |Male  |42 |1              |28.0       |0                 |1-2 Year   |Yes           |33667.0       |124.0               |158    |0       |\n",
            "+---+------+---+---------------+-----------+------------------+-----------+--------------+--------------+--------------------+-------+--------+\n",
            "only showing top 5 rows\n",
            "\n"
          ],
          "name": "stdout"
        }
      ]
    },
    {
      "cell_type": "code",
      "metadata": {
        "colab": {
          "base_uri": "https://localhost:8080/"
        },
        "id": "P-XGZaH8wiIg",
        "outputId": "96a43d96-e53d-4f68-b809-ef5c5137f2e6"
      },
      "source": [
        "#df.drop('Gender','Vehicle_Age').show()\n",
        "df.drop('Gender').show()"
      ],
      "execution_count": null,
      "outputs": [
        {
          "output_type": "stream",
          "text": [
            "+---+---+---------------+-----------+------------------+-----------+--------------+--------------+--------------------+-------+--------+\n",
            "| id|Age|Driving_License|Region_Code|Previously_Insured|Vehicle_Age|Vehicle_Damage|Annual_Premium|Policy_Sales_Channel|Vintage|Response|\n",
            "+---+---+---------------+-----------+------------------+-----------+--------------+--------------+--------------------+-------+--------+\n",
            "|  1| 44|              1|       28.0|                 0|  > 2 Years|           Yes|       40454.0|                26.0|    217|       1|\n",
            "|  2| 76|              1|        3.0|                 0|   1-2 Year|            No|       33536.0|                26.0|    183|       0|\n",
            "|  3| 47|              1|       28.0|                 0|  > 2 Years|           Yes|       38294.0|                26.0|     27|       1|\n",
            "|  4| 21|              1|       11.0|                 1|   < 1 Year|            No|       28619.0|               152.0|    203|       0|\n",
            "|  5| 29|              1|       41.0|                 1|   < 1 Year|            No|       27496.0|               152.0|     39|       0|\n",
            "|  6| 24|              1|       33.0|                 0|   < 1 Year|           Yes|        2630.0|               160.0|    176|       0|\n",
            "|  7| 23|              1|       11.0|                 0|   < 1 Year|           Yes|       23367.0|               152.0|    249|       0|\n",
            "|  8| 56|              1|       28.0|                 0|   1-2 Year|           Yes|       32031.0|                26.0|     72|       1|\n",
            "|  9| 24|              1|        3.0|                 1|   < 1 Year|            No|       27619.0|               152.0|     28|       0|\n",
            "| 10| 32|              1|        6.0|                 1|   < 1 Year|            No|       28771.0|               152.0|     80|       0|\n",
            "| 11| 47|              1|       35.0|                 0|   1-2 Year|           Yes|       47576.0|               124.0|     46|       1|\n",
            "| 12| 24|              1|       50.0|                 1|   < 1 Year|            No|       48699.0|               152.0|    289|       0|\n",
            "| 13| 41|              1|       15.0|                 1|   1-2 Year|            No|       31409.0|                14.0|    221|       0|\n",
            "| 14| 76|              1|       28.0|                 0|   1-2 Year|           Yes|       36770.0|                13.0|     15|       0|\n",
            "| 15| 71|              1|       28.0|                 1|   1-2 Year|            No|       46818.0|                30.0|     58|       0|\n",
            "| 16| 37|              1|        6.0|                 0|   1-2 Year|           Yes|        2630.0|               156.0|    147|       1|\n",
            "| 17| 25|              1|       45.0|                 0|   < 1 Year|           Yes|       26218.0|               160.0|    256|       0|\n",
            "| 18| 25|              1|       35.0|                 1|   < 1 Year|            No|       46622.0|               152.0|    299|       0|\n",
            "| 19| 42|              1|       28.0|                 0|   1-2 Year|           Yes|       33667.0|               124.0|    158|       0|\n",
            "| 20| 60|              1|       33.0|                 0|   1-2 Year|           Yes|       32363.0|               124.0|    102|       1|\n",
            "+---+---+---------------+-----------+------------------+-----------+--------------+--------------+--------------------+-------+--------+\n",
            "only showing top 20 rows\n",
            "\n"
          ],
          "name": "stdout"
        }
      ]
    },
    {
      "cell_type": "markdown",
      "metadata": {
        "id": "0akL_Rp9wmOr"
      },
      "source": [
        "**String Indexer**"
      ]
    },
    {
      "cell_type": "code",
      "metadata": {
        "colab": {
          "base_uri": "https://localhost:8080/"
        },
        "id": "HYxWrcV7wqmY",
        "outputId": "b20d0507-eb2e-4b19-f23e-cc70bca26b0a"
      },
      "source": [
        "from pyspark.ml.feature import StringIndexer\n",
        "# create object of StringIndexer class and specify input and output column\n",
        "indexer1 = StringIndexer(inputCol='Vehicle_Damage',outputCol='Vehicle_Damage_Index')\n",
        "indexer2 = StringIndexer(inputCol='Vehicle_Age',outputCol='Vehicle_Age_Index')\n",
        "# transform the data\n",
        "df = indexer1.fit(df).transform(df)\n",
        "df = indexer2.fit(df).transform(df)\n",
        "# view the transformed data\n",
        "df.select('Vehicle_Damage','Vehicle_Damage_Index','Vehicle_Age','Vehicle_Age_Index').show(10)"
      ],
      "execution_count": null,
      "outputs": [
        {
          "output_type": "stream",
          "text": [
            "+--------------+--------------------+-----------+-----------------+\n",
            "|Vehicle_Damage|Vehicle_Damage_Index|Vehicle_Age|Vehicle_Age_Index|\n",
            "+--------------+--------------------+-----------+-----------------+\n",
            "|           Yes|                 0.0|  > 2 Years|              2.0|\n",
            "|            No|                 1.0|   1-2 Year|              0.0|\n",
            "|           Yes|                 0.0|  > 2 Years|              2.0|\n",
            "|            No|                 1.0|   < 1 Year|              1.0|\n",
            "|            No|                 1.0|   < 1 Year|              1.0|\n",
            "|           Yes|                 0.0|   < 1 Year|              1.0|\n",
            "|           Yes|                 0.0|   < 1 Year|              1.0|\n",
            "|           Yes|                 0.0|   1-2 Year|              0.0|\n",
            "|            No|                 1.0|   < 1 Year|              1.0|\n",
            "|            No|                 1.0|   < 1 Year|              1.0|\n",
            "+--------------+--------------------+-----------+-----------------+\n",
            "only showing top 10 rows\n",
            "\n"
          ],
          "name": "stdout"
        }
      ]
    },
    {
      "cell_type": "markdown",
      "metadata": {
        "id": "EzkvQBvuwv5d"
      },
      "source": [
        "**OneHotEncoder**"
      ]
    },
    {
      "cell_type": "code",
      "metadata": {
        "colab": {
          "base_uri": "https://localhost:8080/"
        },
        "id": "R4rLzYu1wykH",
        "outputId": "cce8e9c9-8dbb-4227-98f8-4c52f0b1e69a"
      },
      "source": [
        "from pyspark.ml.feature import OneHotEncoder\n",
        "OHE = OneHotEncoder(inputCols=['Vehicle_Damage_Index', 'Vehicle_Age_Index'],outputCols=['Vehicle_Damage_OHE', 'Vehicle_Age_OHE'])\n",
        "# transform the data\n",
        "df= OHE.fit(df).transform(df)\n",
        "# view and transform the data\n",
        "df.select('Vehicle_Damage', 'Vehicle_Damage_Index', 'Vehicle_Damage_OHE', 'Vehicle_Age', 'Vehicle_Age_Index', 'Vehicle_Age_OHE').show(5)"
      ],
      "execution_count": null,
      "outputs": [
        {
          "output_type": "stream",
          "text": [
            "+--------------+--------------------+------------------+-----------+-----------------+---------------+\n",
            "|Vehicle_Damage|Vehicle_Damage_Index|Vehicle_Damage_OHE|Vehicle_Age|Vehicle_Age_Index|Vehicle_Age_OHE|\n",
            "+--------------+--------------------+------------------+-----------+-----------------+---------------+\n",
            "|           Yes|                 0.0|     (1,[0],[1.0])|  > 2 Years|              2.0|      (2,[],[])|\n",
            "|            No|                 1.0|         (1,[],[])|   1-2 Year|              0.0|  (2,[0],[1.0])|\n",
            "|           Yes|                 0.0|     (1,[0],[1.0])|  > 2 Years|              2.0|      (2,[],[])|\n",
            "|            No|                 1.0|         (1,[],[])|   < 1 Year|              1.0|  (2,[1],[1.0])|\n",
            "|            No|                 1.0|         (1,[],[])|   < 1 Year|              1.0|  (2,[1],[1.0])|\n",
            "+--------------+--------------------+------------------+-----------+-----------------+---------------+\n",
            "only showing top 5 rows\n",
            "\n"
          ],
          "name": "stdout"
        }
      ]
    },
    {
      "cell_type": "markdown",
      "metadata": {
        "id": "bx9GQtJ6w3GJ"
      },
      "source": [
        "**vector Assembler**"
      ]
    },
    {
      "cell_type": "code",
      "metadata": {
        "colab": {
          "base_uri": "https://localhost:8080/"
        },
        "id": "D84kfbUmw6H0",
        "outputId": "b3d4c539-3f2c-47ff-ad66-02c49655c949"
      },
      "source": [
        "from pyspark.ml.feature import VectorAssembler\n",
        "inputCols=['Age','Driving_License','Region_Code','Previously_Insured','Vehicle_Age_Index','Vehicle_Damage_Index','Annual_Premium','Policy_Sales_Channel','Vintage']\n",
        "print(inputCols)\n",
        "vectorAssembler = VectorAssembler(inputCols = inputCols, outputCol = 'features')\n",
        "output = vectorAssembler.transform(df)\n",
        "#display features and the label column\n",
        "output.select(\"features\", \"Response\").show(truncate=False)"
      ],
      "execution_count": null,
      "outputs": [
        {
          "output_type": "stream",
          "text": [
            "['Age', 'Driving_License', 'Region_Code', 'Previously_Insured', 'Vehicle_Age_Index', 'Vehicle_Damage_Index', 'Annual_Premium', 'Policy_Sales_Channel', 'Vintage']\n",
            "+-----------------------------------------------+--------+\n",
            "|features                                       |Response|\n",
            "+-----------------------------------------------+--------+\n",
            "|[44.0,1.0,28.0,0.0,2.0,0.0,40454.0,26.0,217.0] |1       |\n",
            "|[76.0,1.0,3.0,0.0,0.0,1.0,33536.0,26.0,183.0]  |0       |\n",
            "|[47.0,1.0,28.0,0.0,2.0,0.0,38294.0,26.0,27.0]  |1       |\n",
            "|[21.0,1.0,11.0,1.0,1.0,1.0,28619.0,152.0,203.0]|0       |\n",
            "|[29.0,1.0,41.0,1.0,1.0,1.0,27496.0,152.0,39.0] |0       |\n",
            "|[24.0,1.0,33.0,0.0,1.0,0.0,2630.0,160.0,176.0] |0       |\n",
            "|[23.0,1.0,11.0,0.0,1.0,0.0,23367.0,152.0,249.0]|0       |\n",
            "|[56.0,1.0,28.0,0.0,0.0,0.0,32031.0,26.0,72.0]  |1       |\n",
            "|[24.0,1.0,3.0,1.0,1.0,1.0,27619.0,152.0,28.0]  |0       |\n",
            "|[32.0,1.0,6.0,1.0,1.0,1.0,28771.0,152.0,80.0]  |0       |\n",
            "|[47.0,1.0,35.0,0.0,0.0,0.0,47576.0,124.0,46.0] |1       |\n",
            "|[24.0,1.0,50.0,1.0,1.0,1.0,48699.0,152.0,289.0]|0       |\n",
            "|[41.0,1.0,15.0,1.0,0.0,1.0,31409.0,14.0,221.0] |0       |\n",
            "|[76.0,1.0,28.0,0.0,0.0,0.0,36770.0,13.0,15.0]  |0       |\n",
            "|[71.0,1.0,28.0,1.0,0.0,1.0,46818.0,30.0,58.0]  |0       |\n",
            "|[37.0,1.0,6.0,0.0,0.0,0.0,2630.0,156.0,147.0]  |1       |\n",
            "|[25.0,1.0,45.0,0.0,1.0,0.0,26218.0,160.0,256.0]|0       |\n",
            "|[25.0,1.0,35.0,1.0,1.0,1.0,46622.0,152.0,299.0]|0       |\n",
            "|[42.0,1.0,28.0,0.0,0.0,0.0,33667.0,124.0,158.0]|0       |\n",
            "|[60.0,1.0,33.0,0.0,0.0,0.0,32363.0,124.0,102.0]|1       |\n",
            "+-----------------------------------------------+--------+\n",
            "only showing top 20 rows\n",
            "\n"
          ],
          "name": "stdout"
        }
      ]
    },
    {
      "cell_type": "code",
      "metadata": {
        "colab": {
          "base_uri": "https://localhost:8080/"
        },
        "id": "OIP1VwfKw-Pj",
        "outputId": "aecf9ade-4af0-4962-f437-9216f9bbcf16"
      },
      "source": [
        "output.show(5)"
      ],
      "execution_count": null,
      "outputs": [
        {
          "output_type": "stream",
          "text": [
            "+---+------+---+---------------+-----------+------------------+-----------+--------------+--------------+--------------------+-------+--------+--------------------+-----------------+------------------+---------------+--------------------+\n",
            "| id|Gender|Age|Driving_License|Region_Code|Previously_Insured|Vehicle_Age|Vehicle_Damage|Annual_Premium|Policy_Sales_Channel|Vintage|Response|Vehicle_Damage_Index|Vehicle_Age_Index|Vehicle_Damage_OHE|Vehicle_Age_OHE|            features|\n",
            "+---+------+---+---------------+-----------+------------------+-----------+--------------+--------------+--------------------+-------+--------+--------------------+-----------------+------------------+---------------+--------------------+\n",
            "|  1|  Male| 44|              1|       28.0|                 0|  > 2 Years|           Yes|       40454.0|                26.0|    217|       1|                 0.0|              2.0|     (1,[0],[1.0])|      (2,[],[])|[44.0,1.0,28.0,0....|\n",
            "|  2|  Male| 76|              1|        3.0|                 0|   1-2 Year|            No|       33536.0|                26.0|    183|       0|                 1.0|              0.0|         (1,[],[])|  (2,[0],[1.0])|[76.0,1.0,3.0,0.0...|\n",
            "|  3|  Male| 47|              1|       28.0|                 0|  > 2 Years|           Yes|       38294.0|                26.0|     27|       1|                 0.0|              2.0|     (1,[0],[1.0])|      (2,[],[])|[47.0,1.0,28.0,0....|\n",
            "|  4|  Male| 21|              1|       11.0|                 1|   < 1 Year|            No|       28619.0|               152.0|    203|       0|                 1.0|              1.0|         (1,[],[])|  (2,[1],[1.0])|[21.0,1.0,11.0,1....|\n",
            "|  5|Female| 29|              1|       41.0|                 1|   < 1 Year|            No|       27496.0|               152.0|     39|       0|                 1.0|              1.0|         (1,[],[])|  (2,[1],[1.0])|[29.0,1.0,41.0,1....|\n",
            "+---+------+---+---------------+-----------+------------------+-----------+--------------+--------------+--------------------+-------+--------+--------------------+-----------------+------------------+---------------+--------------------+\n",
            "only showing top 5 rows\n",
            "\n"
          ],
          "name": "stdout"
        }
      ]
    },
    {
      "cell_type": "code",
      "metadata": {
        "colab": {
          "base_uri": "https://localhost:8080/"
        },
        "id": "avd-VGtbrwo_",
        "outputId": "6a381ae5-0b5e-4522-fb52-99271486727a"
      },
      "source": [
        "from pyspark.ml.feature import StandardScaler\n",
        "scaler = StandardScaler(inputCol='features', outputCol=\"scaledFeatures\", withStd=False, withMean=True)\n",
        "scalerModel = scaler.fit(output)\n",
        "scaledData = scalerModel.transform(output)\n",
        "scaledData.select(['scaledFeatures']).show(5, truncate = False)"
      ],
      "execution_count": null,
      "outputs": [
        {
          "output_type": "stream",
          "text": [
            "+-----------------------------------------------------------------------------------------------------------------------------------------------------------------------------+\n",
            "|scaledFeatures                                                                                                                                                               |\n",
            "+-----------------------------------------------------------------------------------------------------------------------------------------------------------------------------+\n",
            "|[5.177416434667499,0.0021306240471885562,1.6111925984424893,-0.4582101183650871,1.4836122998932133,-0.4951234423747537,9889.610418541386,-86.0342946506107,62.65260332346244]|\n",
            "|[37.1774164346675,0.0021306240471885562,-23.38880740155751,-0.4582101183650871,-0.5163877001067866,0.5048765576252463,2971.610418541386,-86.0342946506107,28.652603323462444]|\n",
            "|[8.1774164346675,0.0021306240471885562,1.6111925984424893,-0.4582101183650871,1.4836122998932133,-0.4951234423747537,7729.610418541386,-86.0342946506107,-127.34739667653756]|\n",
            "|[-17.8225835653325,0.0021306240471885562,-15.38880740155751,0.5417898816349129,0.4836122998932134,0.5048765576252463,-1945.389581458614,39.965705349389296,48.65260332346244]|\n",
            "|[-9.8225835653325,0.0021306240471885562,14.61119259844249,0.5417898816349129,0.4836122998932134,0.5048765576252463,-3068.389581458614,39.965705349389296,-115.34739667653756]|\n",
            "+-----------------------------------------------------------------------------------------------------------------------------------------------------------------------------+\n",
            "only showing top 5 rows\n",
            "\n"
          ],
          "name": "stdout"
        }
      ]
    },
    {
      "cell_type": "markdown",
      "metadata": {
        "id": "TrX0LKRLo6z1"
      },
      "source": [
        "**PCA**"
      ]
    },
    {
      "cell_type": "code",
      "metadata": {
        "colab": {
          "base_uri": "https://localhost:8080/"
        },
        "id": "u259F-7qr44c",
        "outputId": "e699a6c2-a73c-444d-ff15-7b7d2e07623f"
      },
      "source": [
        "from pyspark.ml.feature import PCA\n",
        "pca = PCA(k=2, inputCol = scaler.getOutputCol(), outputCol=\"pcaFeatures\")\n",
        "model = pca.fit(scaledData)\n",
        "transformed_feature = model.transform(scaledData)\n",
        "transformed_feature.select(['pcaFeatures']).show(5, truncate = False)"
      ],
      "execution_count": null,
      "outputs": [
        {
          "output_type": "stream",
          "text": [
            "+-----------------------------------------+\n",
            "|pcaFeatures                              |\n",
            "+-----------------------------------------+\n",
            "|[-9889.640570062405,-62.68362679820971]  |\n",
            "|[-2971.6432718595656,-28.666926921856515]|\n",
            "|[-7729.641455922532,127.32342306780409]  |\n",
            "|[1945.4048090866763,-48.656157152989714] |\n",
            "|[3068.404007971356,115.36240755168731]   |\n",
            "+-----------------------------------------+\n",
            "only showing top 5 rows\n",
            "\n"
          ],
          "name": "stdout"
        }
      ]
    },
    {
      "cell_type": "markdown",
      "metadata": {
        "id": "L1toI9nJxBY7"
      },
      "source": [
        "**Split Train & Test**"
      ]
    },
    {
      "cell_type": "code",
      "metadata": {
        "colab": {
          "base_uri": "https://localhost:8080/"
        },
        "id": "0eqm0wg7xFb5",
        "outputId": "0afd3850-9fcf-45d0-b218-24dc73a9b749"
      },
      "source": [
        "(trainingData, testData) = output.randomSplit([0.7, 0.3], seed=5)\n",
        "trainingData.count()"
      ],
      "execution_count": null,
      "outputs": [
        {
          "output_type": "execute_result",
          "data": {
            "text/plain": [
              "266652"
            ]
          },
          "metadata": {
            "tags": []
          },
          "execution_count": 58
        }
      ]
    },
    {
      "cell_type": "code",
      "metadata": {
        "colab": {
          "base_uri": "https://localhost:8080/"
        },
        "id": "jRWbRZdOxJYJ",
        "outputId": "79483430-146c-4a10-ec9a-e523c4d566b4"
      },
      "source": [
        "testData.count()"
      ],
      "execution_count": null,
      "outputs": [
        {
          "output_type": "execute_result",
          "data": {
            "text/plain": [
              "114457"
            ]
          },
          "metadata": {
            "tags": []
          },
          "execution_count": 59
        }
      ]
    },
    {
      "cell_type": "markdown",
      "metadata": {
        "id": "xl-wpEnvo-YV"
      },
      "source": [
        "**ML Algorithms**"
      ]
    },
    {
      "cell_type": "markdown",
      "metadata": {
        "id": "8a_SpoRsxS-C"
      },
      "source": [
        "**GBT(Gradient Boost Tree) ****"
      ]
    },
    {
      "cell_type": "code",
      "metadata": {
        "colab": {
          "base_uri": "https://localhost:8080/"
        },
        "id": "PrAW3yw9xN__",
        "outputId": "03d0ac6d-df05-4141-c6ff-6a44a7d79af6"
      },
      "source": [
        "from __future__ import print_function\n",
        "from pyspark.ml.tuning import ParamGridBuilder, CrossValidator\n",
        "from pyspark.ml.classification import GBTClassifier\n",
        "from pyspark.ml.evaluation import MulticlassClassificationEvaluator\n",
        "from pyspark.ml.evaluation import BinaryClassificationEvaluator\n",
        "gbt = GBTClassifier(labelCol=\"Response\", featuresCol=\"features\")\n",
        "gbModel = gbt.fit(trainingData)\n",
        "gb_predictions = gbModel.transform(testData)\n",
        "print(gb_predictions)\n",
        "gb_predictions.select(\"prediction\", \"Response\", \"features\").show(5)\n",
        "multi_evaluator = MulticlassClassificationEvaluator(labelCol = 'Response', metricName = 'accuracy')\n",
        "print('Gradient-boosted Trees Accuracy:', multi_evaluator.evaluate(gb_predictions))\n",
        "evaluator = BinaryClassificationEvaluator(labelCol='Response', metricName='areaUnderROC')\n",
        "roc_gbt=evaluator.evaluate(gb_predictions)\n",
        "print('GBT_ROC SCORE:',roc_gbt )"
      ],
      "execution_count": null,
      "outputs": [
        {
          "output_type": "stream",
          "text": [
            "DataFrame[id: int, Gender: string, Age: int, Driving_License: int, Region_Code: double, Previously_Insured: int, Vehicle_Age: string, Vehicle_Damage: string, Annual_Premium: double, Policy_Sales_Channel: double, Vintage: int, Response: int, Vehicle_Damage_Index: double, Vehicle_Age_Index: double, Vehicle_Damage_OHE: vector, Vehicle_Age_OHE: vector, features: vector, rawPrediction: vector, probability: vector, prediction: double]\n",
            "+----------+--------+--------------------+\n",
            "|prediction|Response|            features|\n",
            "+----------+--------+--------------------+\n",
            "|       0.0|       1|[47.0,1.0,28.0,0....|\n",
            "|       0.0|       1|[56.0,1.0,28.0,0....|\n",
            "|       0.0|       0|[76.0,1.0,28.0,0....|\n",
            "|       0.0|       0|[25.0,1.0,35.0,1....|\n",
            "|       0.0|       1|[51.0,1.0,28.0,0....|\n",
            "+----------+--------+--------------------+\n",
            "only showing top 5 rows\n",
            "\n",
            "Gradient-boosted Trees Accuracy: 0.8786968031662545\n",
            "GBT_ROC SCORE: 0.8528597869299667\n"
          ],
          "name": "stdout"
        }
      ]
    },
    {
      "cell_type": "markdown",
      "metadata": {
        "id": "0tRDQDddxV8I"
      },
      "source": [
        "**Random Forest**"
      ]
    },
    {
      "cell_type": "code",
      "metadata": {
        "colab": {
          "base_uri": "https://localhost:8080/"
        },
        "id": "PYszXj4PxbsO",
        "outputId": "67ef5308-fd58-4826-98a8-f6d9765e3cdb"
      },
      "source": [
        "from pyspark.ml.classification import RandomForestClassifier\n",
        "\n",
        "rf = RandomForestClassifier(labelCol='Response', \n",
        "                            featuresCol='features',\n",
        "                            maxDepth=5)\n",
        "model = rf.fit(trainingData)\n",
        "rf_predictions = model.transform(testData)\n",
        "print(rf_predictions)\n",
        "rf_predictions.select(\"prediction\", \"Response\", \"features\").show(5)\n",
        "multi_evaluator = MulticlassClassificationEvaluator(labelCol = 'Response', metricName = 'accuracy')\n",
        "print('Random Forest classifier Accuracy:', multi_evaluator.evaluate(rf_predictions))\n",
        "evaluator = BinaryClassificationEvaluator(labelCol='Response', metricName='areaUnderROC')\n",
        "roc_rf=evaluator.evaluate(gb_predictions)\n",
        "print('RF_ROC SCORE:',roc_rf )"
      ],
      "execution_count": null,
      "outputs": [
        {
          "output_type": "stream",
          "text": [
            "DataFrame[id: int, Gender: string, Age: int, Driving_License: int, Region_Code: double, Previously_Insured: int, Vehicle_Age: string, Vehicle_Damage: string, Annual_Premium: double, Policy_Sales_Channel: double, Vintage: int, Response: int, Vehicle_Damage_Index: double, Vehicle_Age_Index: double, Vehicle_Damage_OHE: vector, Vehicle_Age_OHE: vector, features: vector, rawPrediction: vector, probability: vector, prediction: double]\n",
            "+----------+--------+--------------------+\n",
            "|prediction|Response|            features|\n",
            "+----------+--------+--------------------+\n",
            "|       0.0|       1|[47.0,1.0,28.0,0....|\n",
            "|       0.0|       1|[56.0,1.0,28.0,0....|\n",
            "|       0.0|       0|[76.0,1.0,28.0,0....|\n",
            "|       0.0|       0|[25.0,1.0,35.0,1....|\n",
            "|       0.0|       1|[51.0,1.0,28.0,0....|\n",
            "+----------+--------+--------------------+\n",
            "only showing top 5 rows\n",
            "\n",
            "Random Forest classifier Accuracy: 0.8786968031662545\n",
            "RF_ROC SCORE: 0.8528597869299667\n"
          ],
          "name": "stdout"
        }
      ]
    },
    {
      "cell_type": "markdown",
      "metadata": {
        "id": "a4J35deaxodk"
      },
      "source": [
        "**logistic**"
      ]
    },
    {
      "cell_type": "code",
      "metadata": {
        "colab": {
          "base_uri": "https://localhost:8080/"
        },
        "id": "l1CcrqpqxoBd",
        "outputId": "07fb2d80-0156-46cf-e3de-ca7e495c0bac"
      },
      "source": [
        "from pyspark.ml.classification import LogisticRegression\n",
        "lr = LogisticRegression(labelCol=\"Response\", featuresCol=\"features\")\n",
        "#Training algo\n",
        "lrModel = lr.fit(trainingData)\n",
        "lr_prediction = lrModel.transform(testData)\n",
        "lr_prediction.select(\"prediction\", \"Response\", \"features\").show(5)\n",
        "evaluator = MulticlassClassificationEvaluator(labelCol=\"Response\", predictionCol=\"prediction\", metricName=\"accuracy\")\n",
        "print('Logistic Regression Accuracy:', multi_evaluator.evaluate(lr_prediction))\n",
        "evaluator = BinaryClassificationEvaluator(labelCol='Response', metricName='areaUnderROC')\n",
        "roc_LR=evaluator.evaluate(gb_predictions)\n",
        "print('LR_ROC SCORE:',roc_LR )"
      ],
      "execution_count": null,
      "outputs": [
        {
          "output_type": "stream",
          "text": [
            "+----------+--------+--------------------+\n",
            "|prediction|Response|            features|\n",
            "+----------+--------+--------------------+\n",
            "|       0.0|       1|[47.0,1.0,28.0,0....|\n",
            "|       0.0|       1|[56.0,1.0,28.0,0....|\n",
            "|       0.0|       0|[76.0,1.0,28.0,0....|\n",
            "|       0.0|       0|[25.0,1.0,35.0,1....|\n",
            "|       0.0|       1|[51.0,1.0,28.0,0....|\n",
            "+----------+--------+--------------------+\n",
            "only showing top 5 rows\n",
            "\n",
            "Logistic Regression Accuracy: 0.8786968031662545\n",
            "LR_ROC SCORE: 0.8528597869299667\n"
          ],
          "name": "stdout"
        }
      ]
    },
    {
      "cell_type": "markdown",
      "metadata": {
        "id": "MUZv8jCnpN8D"
      },
      "source": [
        "**Linear SVC**"
      ]
    },
    {
      "cell_type": "code",
      "metadata": {
        "colab": {
          "base_uri": "https://localhost:8080/"
        },
        "id": "17_B485uyHsn",
        "outputId": "61f229c4-6d25-42e7-8c0e-832f166b2679"
      },
      "source": [
        "from pyspark.ml.classification import LinearSVC\n",
        "svm = LinearSVC(labelCol=\"Response\", featuresCol=\"features\")\n",
        "svm_model = svm.fit(trainingData)\n",
        "svm_prediction = svm_model.transform(testData)\n",
        "svm_prediction.select(\"prediction\", \"Response\", \"features\").show(5)\n",
        "svm_accuracy = evaluator.evaluate(svm_prediction)\n",
        "print('Accuracy of Support Vector Machine is:', multi_evaluator.evaluate(svm_prediction))\n",
        "evaluator = BinaryClassificationEvaluator(labelCol='Response', metricName='areaUnderROC')\n",
        "roc_LSVC=evaluator.evaluate(gb_predictions)\n",
        "print('LinearSVC_ROC SCORE:',roc_LSVC )"
      ],
      "execution_count": null,
      "outputs": [
        {
          "output_type": "stream",
          "text": [
            "+----------+--------+--------------------+\n",
            "|prediction|Response|            features|\n",
            "+----------+--------+--------------------+\n",
            "|       0.0|       1|[47.0,1.0,28.0,0....|\n",
            "|       0.0|       1|[56.0,1.0,28.0,0....|\n",
            "|       0.0|       0|[76.0,1.0,28.0,0....|\n",
            "|       0.0|       0|[25.0,1.0,35.0,1....|\n",
            "|       0.0|       1|[51.0,1.0,28.0,0....|\n",
            "+----------+--------+--------------------+\n",
            "only showing top 5 rows\n",
            "\n",
            "Accuracy of Support Vector Machine is: 0.8786968031662545\n",
            "LinearSVC_ROC SCORE: 0.8528597869299667\n"
          ],
          "name": "stdout"
        }
      ]
    },
    {
      "cell_type": "markdown",
      "metadata": {
        "id": "bJQF6lEIpR5h"
      },
      "source": [
        "**FM classifier**"
      ]
    },
    {
      "cell_type": "code",
      "metadata": {
        "colab": {
          "base_uri": "https://localhost:8080/"
        },
        "id": "Zs1GYHOK0AsI",
        "outputId": "01ee138e-4e33-40e4-a89b-c3db3de7543d"
      },
      "source": [
        "from pyspark.ml.classification import FMClassifier\n",
        "fm = FMClassifier(labelCol=\"Response\", featuresCol=\"features\", stepSize=0.001)\n",
        "fm_model = fm.fit(trainingData)\n",
        "fm_prediction = fm_model.transform(testData)\n",
        "fm_prediction.select(\"prediction\", \"Response\", \"features\").show(5)\n",
        "fm_accuracy = evaluator.evaluate(fm_prediction)\n",
        "print('Accuracy of Factorization machines classifier is:', multi_evaluator.evaluate(svm_prediction))\n",
        "evaluator = BinaryClassificationEvaluator(labelCol='Response', metricName='areaUnderROC')\n",
        "roc_FM=evaluator.evaluate(gb_predictions)\n",
        "print('FMClassifier_ROC SCORE:',roc_FM )"
      ],
      "execution_count": null,
      "outputs": [
        {
          "output_type": "stream",
          "text": [
            "+----------+--------+--------------------+\n",
            "|prediction|Response|            features|\n",
            "+----------+--------+--------------------+\n",
            "|       0.0|       1|[47.0,1.0,28.0,0....|\n",
            "|       0.0|       1|[56.0,1.0,28.0,0....|\n",
            "|       0.0|       0|[76.0,1.0,28.0,0....|\n",
            "|       0.0|       0|[25.0,1.0,35.0,1....|\n",
            "|       0.0|       1|[51.0,1.0,28.0,0....|\n",
            "+----------+--------+--------------------+\n",
            "only showing top 5 rows\n",
            "\n",
            "Accuracy of Factorization machines classifier is: 0.8786968031662545\n",
            "FMClassifier_ROC SCORE: 0.8528597869299667\n"
          ],
          "name": "stdout"
        }
      ]
    },
    {
      "cell_type": "markdown",
      "metadata": {
        "id": "yaL2O4CupW7N"
      },
      "source": [
        "**Accuracy**"
      ]
    },
    {
      "cell_type": "code",
      "metadata": {
        "colab": {
          "base_uri": "https://localhost:8080/"
        },
        "id": "OxjjkK9aScur",
        "outputId": "c5f53c2d-f307-44c7-9412-ea55b9d05f8c"
      },
      "source": [
        "print('Logistic Regression Accuracy:', multi_evaluator.evaluate(lr_prediction))\n",
        "print('Accuracy of Factorization machines classifier is:', multi_evaluator.evaluate(svm_prediction))\n",
        "print('Accuracy of Support Vector Machine is:', multi_evaluator.evaluate(svm_prediction))\n",
        "print('Gradient-boosted Trees Accuracy:', multi_evaluator.evaluate(gb_predictions))\n",
        "print('Random Forest classifier Accuracy:', multi_evaluator.evaluate(rf_predictions))"
      ],
      "execution_count": null,
      "outputs": [
        {
          "output_type": "stream",
          "text": [
            "Logistic Regression Accuracy: 0.8786968031662545\n",
            "Accuracy of Factorization machines classifier is: 0.8786968031662545\n",
            "Accuracy of Support Vector Machine is: 0.8786968031662545\n",
            "Gradient-boosted Trees Accuracy: 0.8786968031662545\n",
            "Random Forest classifier Accuracy: 0.8786968031662545\n"
          ],
          "name": "stdout"
        }
      ]
    },
    {
      "cell_type": "markdown",
      "metadata": {
        "id": "veFn9bJ5paue"
      },
      "source": [
        "**Roc Score**"
      ]
    },
    {
      "cell_type": "code",
      "metadata": {
        "colab": {
          "base_uri": "https://localhost:8080/"
        },
        "id": "ZIPndTGBS8U0",
        "outputId": "d8cabe83-d1d1-403d-d36a-74d3c2cefa05"
      },
      "source": [
        "print('LR_ROC SCORE:',roc_LR )\n",
        "print('FMClassifier_ROC SCORE:',roc_FM )\n",
        "print('LinearSVC_ROC SCORE:',roc_LSVC )\n",
        "print('RF_ROC SCORE:',roc_rf )\n",
        "print('GBT_ROC SCORE:',roc_gbt )\n"
      ],
      "execution_count": null,
      "outputs": [
        {
          "output_type": "stream",
          "text": [
            "LR_ROC SCORE: 0.8528597869299667\n",
            "FMClassifier_ROC SCORE: 0.8528597869299667\n",
            "LinearSVC_ROC SCORE: 0.8528597869299667\n",
            "RF_ROC SCORE: 0.8528597869299667\n",
            "GBT_ROC SCORE: 0.8528597869299667\n"
          ],
          "name": "stdout"
        }
      ]
    }
  ]
}